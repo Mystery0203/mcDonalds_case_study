{
 "cells": [
  {
   "cell_type": "code",
   "execution_count": 1,
   "metadata": {},
   "outputs": [],
   "source": [
    "import pandas as pd\n",
    "import numpy as np\n",
    "import random\n",
    "from sklearn.preprocessing import LabelEncoder,StandardScaler\n",
    "from sklearn.decomposition import PCA\n",
    "from sklearn.cluster import KMeans\n",
    "from sklearn.utils import resample\n",
    "from sklearn.metrics import davies_bouldin_score,adjusted_rand_score\n",
    "import matplotlib.pyplot as plt\n",
    "import seaborn as sns\n",
    "import statistics\n",
    "from scipy.stats import norm"
   ]
  },
  {
   "cell_type": "markdown",
   "metadata": {},
   "source": [
    "## Step 3"
   ]
  },
  {
   "cell_type": "code",
   "execution_count": 2,
   "metadata": {},
   "outputs": [
    {
     "data": {
      "text/html": [
       "<div>\n",
       "<style scoped>\n",
       "    .dataframe tbody tr th:only-of-type {\n",
       "        vertical-align: middle;\n",
       "    }\n",
       "\n",
       "    .dataframe tbody tr th {\n",
       "        vertical-align: top;\n",
       "    }\n",
       "\n",
       "    .dataframe thead th {\n",
       "        text-align: right;\n",
       "    }\n",
       "</style>\n",
       "<table border=\"1\" class=\"dataframe\">\n",
       "  <thead>\n",
       "    <tr style=\"text-align: right;\">\n",
       "      <th></th>\n",
       "      <th>yummy</th>\n",
       "      <th>convenient</th>\n",
       "      <th>spicy</th>\n",
       "      <th>fattening</th>\n",
       "      <th>greasy</th>\n",
       "      <th>fast</th>\n",
       "      <th>cheap</th>\n",
       "      <th>tasty</th>\n",
       "      <th>expensive</th>\n",
       "      <th>healthy</th>\n",
       "      <th>disgusting</th>\n",
       "      <th>Like</th>\n",
       "      <th>Age</th>\n",
       "      <th>VisitFrequency</th>\n",
       "      <th>Gender</th>\n",
       "    </tr>\n",
       "  </thead>\n",
       "  <tbody>\n",
       "    <tr>\n",
       "      <th>0</th>\n",
       "      <td>No</td>\n",
       "      <td>Yes</td>\n",
       "      <td>No</td>\n",
       "      <td>Yes</td>\n",
       "      <td>No</td>\n",
       "      <td>Yes</td>\n",
       "      <td>Yes</td>\n",
       "      <td>No</td>\n",
       "      <td>Yes</td>\n",
       "      <td>No</td>\n",
       "      <td>No</td>\n",
       "      <td>-3</td>\n",
       "      <td>61</td>\n",
       "      <td>Every three months</td>\n",
       "      <td>Female</td>\n",
       "    </tr>\n",
       "    <tr>\n",
       "      <th>1</th>\n",
       "      <td>Yes</td>\n",
       "      <td>Yes</td>\n",
       "      <td>No</td>\n",
       "      <td>Yes</td>\n",
       "      <td>Yes</td>\n",
       "      <td>Yes</td>\n",
       "      <td>Yes</td>\n",
       "      <td>Yes</td>\n",
       "      <td>Yes</td>\n",
       "      <td>No</td>\n",
       "      <td>No</td>\n",
       "      <td>+2</td>\n",
       "      <td>51</td>\n",
       "      <td>Every three months</td>\n",
       "      <td>Female</td>\n",
       "    </tr>\n",
       "    <tr>\n",
       "      <th>2</th>\n",
       "      <td>No</td>\n",
       "      <td>Yes</td>\n",
       "      <td>Yes</td>\n",
       "      <td>Yes</td>\n",
       "      <td>Yes</td>\n",
       "      <td>Yes</td>\n",
       "      <td>No</td>\n",
       "      <td>Yes</td>\n",
       "      <td>Yes</td>\n",
       "      <td>Yes</td>\n",
       "      <td>No</td>\n",
       "      <td>+1</td>\n",
       "      <td>62</td>\n",
       "      <td>Every three months</td>\n",
       "      <td>Female</td>\n",
       "    </tr>\n",
       "    <tr>\n",
       "      <th>3</th>\n",
       "      <td>Yes</td>\n",
       "      <td>Yes</td>\n",
       "      <td>No</td>\n",
       "      <td>Yes</td>\n",
       "      <td>Yes</td>\n",
       "      <td>Yes</td>\n",
       "      <td>Yes</td>\n",
       "      <td>Yes</td>\n",
       "      <td>No</td>\n",
       "      <td>No</td>\n",
       "      <td>Yes</td>\n",
       "      <td>+4</td>\n",
       "      <td>69</td>\n",
       "      <td>Once a week</td>\n",
       "      <td>Female</td>\n",
       "    </tr>\n",
       "    <tr>\n",
       "      <th>4</th>\n",
       "      <td>No</td>\n",
       "      <td>Yes</td>\n",
       "      <td>No</td>\n",
       "      <td>Yes</td>\n",
       "      <td>Yes</td>\n",
       "      <td>Yes</td>\n",
       "      <td>Yes</td>\n",
       "      <td>No</td>\n",
       "      <td>No</td>\n",
       "      <td>Yes</td>\n",
       "      <td>No</td>\n",
       "      <td>+2</td>\n",
       "      <td>49</td>\n",
       "      <td>Once a month</td>\n",
       "      <td>Male</td>\n",
       "    </tr>\n",
       "  </tbody>\n",
       "</table>\n",
       "</div>"
      ],
      "text/plain": [
       "  yummy convenient spicy fattening greasy fast cheap tasty expensive healthy  \\\n",
       "0    No        Yes    No       Yes     No  Yes   Yes    No       Yes      No   \n",
       "1   Yes        Yes    No       Yes    Yes  Yes   Yes   Yes       Yes      No   \n",
       "2    No        Yes   Yes       Yes    Yes  Yes    No   Yes       Yes     Yes   \n",
       "3   Yes        Yes    No       Yes    Yes  Yes   Yes   Yes        No      No   \n",
       "4    No        Yes    No       Yes    Yes  Yes   Yes    No        No     Yes   \n",
       "\n",
       "  disgusting Like  Age      VisitFrequency  Gender  \n",
       "0         No   -3   61  Every three months  Female  \n",
       "1         No   +2   51  Every three months  Female  \n",
       "2         No   +1   62  Every three months  Female  \n",
       "3        Yes   +4   69         Once a week  Female  \n",
       "4         No   +2   49        Once a month    Male  "
      ]
     },
     "execution_count": 2,
     "metadata": {},
     "output_type": "execute_result"
    }
   ],
   "source": [
    "data = pd.read_csv('mcdonalds.csv')\n",
    "data.head()"
   ]
  },
  {
   "cell_type": "code",
   "execution_count": 3,
   "metadata": {},
   "outputs": [
    {
     "data": {
      "text/plain": [
       "(1453, 15)"
      ]
     },
     "execution_count": 3,
     "metadata": {},
     "output_type": "execute_result"
    }
   ],
   "source": [
    "data.shape"
   ]
  },
  {
   "cell_type": "code",
   "execution_count": 30,
   "metadata": {},
   "outputs": [],
   "source": [
    "x = data.iloc[:,0:11]\n"
   ]
  },
  {
   "cell_type": "code",
   "execution_count": 34,
   "metadata": {},
   "outputs": [
    {
     "data": {
      "text/html": [
       "<div>\n",
       "<style scoped>\n",
       "    .dataframe tbody tr th:only-of-type {\n",
       "        vertical-align: middle;\n",
       "    }\n",
       "\n",
       "    .dataframe tbody tr th {\n",
       "        vertical-align: top;\n",
       "    }\n",
       "\n",
       "    .dataframe thead th {\n",
       "        text-align: right;\n",
       "    }\n",
       "</style>\n",
       "<table border=\"1\" class=\"dataframe\">\n",
       "  <thead>\n",
       "    <tr style=\"text-align: right;\">\n",
       "      <th></th>\n",
       "      <th>yummy</th>\n",
       "      <th>convenient</th>\n",
       "      <th>spicy</th>\n",
       "      <th>fattening</th>\n",
       "      <th>greasy</th>\n",
       "      <th>fast</th>\n",
       "      <th>cheap</th>\n",
       "      <th>tasty</th>\n",
       "      <th>expensive</th>\n",
       "      <th>healthy</th>\n",
       "      <th>disgusting</th>\n",
       "    </tr>\n",
       "  </thead>\n",
       "  <tbody>\n",
       "    <tr>\n",
       "      <th>0</th>\n",
       "      <td>0</td>\n",
       "      <td>1</td>\n",
       "      <td>0</td>\n",
       "      <td>1</td>\n",
       "      <td>0</td>\n",
       "      <td>1</td>\n",
       "      <td>1</td>\n",
       "      <td>0</td>\n",
       "      <td>1</td>\n",
       "      <td>0</td>\n",
       "      <td>0</td>\n",
       "    </tr>\n",
       "    <tr>\n",
       "      <th>1</th>\n",
       "      <td>1</td>\n",
       "      <td>1</td>\n",
       "      <td>0</td>\n",
       "      <td>1</td>\n",
       "      <td>1</td>\n",
       "      <td>1</td>\n",
       "      <td>1</td>\n",
       "      <td>1</td>\n",
       "      <td>1</td>\n",
       "      <td>0</td>\n",
       "      <td>0</td>\n",
       "    </tr>\n",
       "    <tr>\n",
       "      <th>2</th>\n",
       "      <td>0</td>\n",
       "      <td>1</td>\n",
       "      <td>1</td>\n",
       "      <td>1</td>\n",
       "      <td>1</td>\n",
       "      <td>1</td>\n",
       "      <td>0</td>\n",
       "      <td>1</td>\n",
       "      <td>1</td>\n",
       "      <td>1</td>\n",
       "      <td>0</td>\n",
       "    </tr>\n",
       "    <tr>\n",
       "      <th>3</th>\n",
       "      <td>1</td>\n",
       "      <td>1</td>\n",
       "      <td>0</td>\n",
       "      <td>1</td>\n",
       "      <td>1</td>\n",
       "      <td>1</td>\n",
       "      <td>1</td>\n",
       "      <td>1</td>\n",
       "      <td>0</td>\n",
       "      <td>0</td>\n",
       "      <td>1</td>\n",
       "    </tr>\n",
       "    <tr>\n",
       "      <th>4</th>\n",
       "      <td>0</td>\n",
       "      <td>1</td>\n",
       "      <td>0</td>\n",
       "      <td>1</td>\n",
       "      <td>1</td>\n",
       "      <td>1</td>\n",
       "      <td>1</td>\n",
       "      <td>0</td>\n",
       "      <td>0</td>\n",
       "      <td>1</td>\n",
       "      <td>0</td>\n",
       "    </tr>\n",
       "  </tbody>\n",
       "</table>\n",
       "</div>"
      ],
      "text/plain": [
       "   yummy  convenient  spicy  fattening  greasy  fast  cheap  tasty  expensive  \\\n",
       "0      0           1      0          1       0     1      1      0          1   \n",
       "1      1           1      0          1       1     1      1      1          1   \n",
       "2      0           1      1          1       1     1      0      1          1   \n",
       "3      1           1      0          1       1     1      1      1          0   \n",
       "4      0           1      0          1       1     1      1      0          0   \n",
       "\n",
       "   healthy  disgusting  \n",
       "0        0           0  \n",
       "1        0           0  \n",
       "2        1           0  \n",
       "3        0           1  \n",
       "4        1           0  "
      ]
     },
     "execution_count": 34,
     "metadata": {},
     "output_type": "execute_result"
    }
   ],
   "source": [
    "LE = LabelEncoder()\n",
    "x = x.apply(LE.fit_transform)\n",
    "x.head()"
   ]
  },
  {
   "cell_type": "code",
   "execution_count": 36,
   "metadata": {},
   "outputs": [],
   "source": [
    "X =x.to_numpy()"
   ]
  },
  {
   "cell_type": "code",
   "execution_count": 6,
   "metadata": {},
   "outputs": [
    {
     "data": {
      "text/plain": [
       "yummy         0.552650\n",
       "convenient    0.907777\n",
       "spicy         0.093599\n",
       "fattening     0.867171\n",
       "greasy        0.526497\n",
       "fast          0.900206\n",
       "cheap         0.598761\n",
       "tasty         0.644184\n",
       "expensive     0.357880\n",
       "healthy       0.198899\n",
       "disgusting    0.242946\n",
       "dtype: float64"
      ]
     },
     "execution_count": 6,
     "metadata": {},
     "output_type": "execute_result"
    }
   ],
   "source": [
    "x.mean()"
   ]
  },
  {
   "cell_type": "markdown",
   "metadata": {},
   "source": [
    "## Standard"
   ]
  },
  {
   "cell_type": "code",
   "execution_count": 7,
   "metadata": {},
   "outputs": [
    {
     "data": {
      "text/plain": [
       "(1453, 11)"
      ]
     },
     "execution_count": 7,
     "metadata": {},
     "output_type": "execute_result"
    }
   ],
   "source": [
    "scaler = StandardScaler()\n",
    "x_standard = scaler.fit_transform(x)\n",
    "x_standard.shape"
   ]
  },
  {
   "cell_type": "markdown",
   "metadata": {},
   "source": [
    "## Step 4"
   ]
  },
  {
   "cell_type": "markdown",
   "metadata": {},
   "source": [
    "## PCA"
   ]
  },
  {
   "cell_type": "code",
   "execution_count": 8,
   "metadata": {},
   "outputs": [],
   "source": [
    "pca = PCA(n_components=11)\n",
    "x_pca = pca.fit_transform(x)\n",
    "new_col = ['pc1','pc2','pc3','pc4','pc5','pc6','pc7','pc8','pc9','pc10','pc11']\n",
    "x_pca_pd = pd.DataFrame(data = x_pca, columns = new_col)"
   ]
  },
  {
   "cell_type": "code",
   "execution_count": 9,
   "metadata": {},
   "outputs": [
    {
     "data": {
      "text/html": [
       "<div>\n",
       "<style scoped>\n",
       "    .dataframe tbody tr th:only-of-type {\n",
       "        vertical-align: middle;\n",
       "    }\n",
       "\n",
       "    .dataframe tbody tr th {\n",
       "        vertical-align: top;\n",
       "    }\n",
       "\n",
       "    .dataframe thead th {\n",
       "        text-align: right;\n",
       "    }\n",
       "</style>\n",
       "<table border=\"1\" class=\"dataframe\">\n",
       "  <thead>\n",
       "    <tr style=\"text-align: right;\">\n",
       "      <th></th>\n",
       "      <th>PC1</th>\n",
       "      <th>PC2</th>\n",
       "      <th>PC3</th>\n",
       "      <th>PC4</th>\n",
       "      <th>PC5</th>\n",
       "      <th>PC6</th>\n",
       "      <th>PC7</th>\n",
       "      <th>PC8</th>\n",
       "      <th>PC9</th>\n",
       "      <th>PC10</th>\n",
       "      <th>PC11</th>\n",
       "    </tr>\n",
       "    <tr>\n",
       "      <th>variable</th>\n",
       "      <th></th>\n",
       "      <th></th>\n",
       "      <th></th>\n",
       "      <th></th>\n",
       "      <th></th>\n",
       "      <th></th>\n",
       "      <th></th>\n",
       "      <th></th>\n",
       "      <th></th>\n",
       "      <th></th>\n",
       "      <th></th>\n",
       "    </tr>\n",
       "  </thead>\n",
       "  <tbody>\n",
       "    <tr>\n",
       "      <th>yummy</th>\n",
       "      <td>-0.476933</td>\n",
       "      <td>0.363790</td>\n",
       "      <td>-0.304444</td>\n",
       "      <td>0.055162</td>\n",
       "      <td>-0.307535</td>\n",
       "      <td>0.170738</td>\n",
       "      <td>-0.280519</td>\n",
       "      <td>0.013041</td>\n",
       "      <td>0.572403</td>\n",
       "      <td>-0.110284</td>\n",
       "      <td>0.045439</td>\n",
       "    </tr>\n",
       "    <tr>\n",
       "      <th>convenient</th>\n",
       "      <td>-0.155332</td>\n",
       "      <td>0.016414</td>\n",
       "      <td>-0.062515</td>\n",
       "      <td>-0.142425</td>\n",
       "      <td>0.277608</td>\n",
       "      <td>-0.347830</td>\n",
       "      <td>-0.059738</td>\n",
       "      <td>-0.113079</td>\n",
       "      <td>-0.018465</td>\n",
       "      <td>-0.665818</td>\n",
       "      <td>-0.541616</td>\n",
       "    </tr>\n",
       "    <tr>\n",
       "      <th>spicy</th>\n",
       "      <td>-0.006356</td>\n",
       "      <td>0.018809</td>\n",
       "      <td>-0.037019</td>\n",
       "      <td>0.197619</td>\n",
       "      <td>0.070620</td>\n",
       "      <td>-0.355087</td>\n",
       "      <td>0.707637</td>\n",
       "      <td>0.375934</td>\n",
       "      <td>0.400280</td>\n",
       "      <td>-0.075634</td>\n",
       "      <td>0.141730</td>\n",
       "    </tr>\n",
       "    <tr>\n",
       "      <th>fattening</th>\n",
       "      <td>0.116232</td>\n",
       "      <td>-0.034094</td>\n",
       "      <td>-0.322359</td>\n",
       "      <td>-0.354139</td>\n",
       "      <td>-0.073405</td>\n",
       "      <td>-0.406515</td>\n",
       "      <td>-0.385943</td>\n",
       "      <td>0.589622</td>\n",
       "      <td>-0.160512</td>\n",
       "      <td>-0.005338</td>\n",
       "      <td>0.250910</td>\n",
       "    </tr>\n",
       "    <tr>\n",
       "      <th>greasy</th>\n",
       "      <td>0.304443</td>\n",
       "      <td>-0.063839</td>\n",
       "      <td>-0.802373</td>\n",
       "      <td>0.253960</td>\n",
       "      <td>0.361399</td>\n",
       "      <td>0.209347</td>\n",
       "      <td>0.036170</td>\n",
       "      <td>-0.138241</td>\n",
       "      <td>-0.002847</td>\n",
       "      <td>0.008707</td>\n",
       "      <td>0.001642</td>\n",
       "    </tr>\n",
       "    <tr>\n",
       "      <th>fast</th>\n",
       "      <td>-0.108493</td>\n",
       "      <td>-0.086972</td>\n",
       "      <td>-0.064642</td>\n",
       "      <td>-0.097363</td>\n",
       "      <td>0.107930</td>\n",
       "      <td>-0.594632</td>\n",
       "      <td>-0.086846</td>\n",
       "      <td>-0.627799</td>\n",
       "      <td>0.166197</td>\n",
       "      <td>0.239532</td>\n",
       "      <td>0.339265</td>\n",
       "    </tr>\n",
       "    <tr>\n",
       "      <th>cheap</th>\n",
       "      <td>-0.337186</td>\n",
       "      <td>-0.610633</td>\n",
       "      <td>-0.149310</td>\n",
       "      <td>0.118958</td>\n",
       "      <td>-0.128973</td>\n",
       "      <td>-0.103241</td>\n",
       "      <td>-0.040449</td>\n",
       "      <td>0.140060</td>\n",
       "      <td>0.076069</td>\n",
       "      <td>0.428087</td>\n",
       "      <td>-0.489283</td>\n",
       "    </tr>\n",
       "    <tr>\n",
       "      <th>tasty</th>\n",
       "      <td>-0.471514</td>\n",
       "      <td>0.307318</td>\n",
       "      <td>-0.287265</td>\n",
       "      <td>-0.002547</td>\n",
       "      <td>-0.210899</td>\n",
       "      <td>-0.076914</td>\n",
       "      <td>0.360453</td>\n",
       "      <td>-0.072792</td>\n",
       "      <td>-0.639086</td>\n",
       "      <td>0.079184</td>\n",
       "      <td>0.019552</td>\n",
       "    </tr>\n",
       "    <tr>\n",
       "      <th>expensive</th>\n",
       "      <td>0.329042</td>\n",
       "      <td>0.601286</td>\n",
       "      <td>0.024397</td>\n",
       "      <td>0.067816</td>\n",
       "      <td>-0.003125</td>\n",
       "      <td>-0.261342</td>\n",
       "      <td>-0.068385</td>\n",
       "      <td>0.029539</td>\n",
       "      <td>0.066996</td>\n",
       "      <td>0.454399</td>\n",
       "      <td>-0.490069</td>\n",
       "    </tr>\n",
       "    <tr>\n",
       "      <th>healthy</th>\n",
       "      <td>-0.213711</td>\n",
       "      <td>0.076593</td>\n",
       "      <td>0.192051</td>\n",
       "      <td>0.763488</td>\n",
       "      <td>0.287846</td>\n",
       "      <td>-0.178226</td>\n",
       "      <td>-0.349616</td>\n",
       "      <td>0.176303</td>\n",
       "      <td>-0.185572</td>\n",
       "      <td>-0.038117</td>\n",
       "      <td>0.157608</td>\n",
       "    </tr>\n",
       "    <tr>\n",
       "      <th>disgusting</th>\n",
       "      <td>0.374753</td>\n",
       "      <td>-0.139656</td>\n",
       "      <td>-0.088571</td>\n",
       "      <td>0.369539</td>\n",
       "      <td>-0.729209</td>\n",
       "      <td>-0.210878</td>\n",
       "      <td>-0.026792</td>\n",
       "      <td>-0.167181</td>\n",
       "      <td>-0.072483</td>\n",
       "      <td>-0.289592</td>\n",
       "      <td>-0.040662</td>\n",
       "    </tr>\n",
       "  </tbody>\n",
       "</table>\n",
       "</div>"
      ],
      "text/plain": [
       "                 PC1       PC2       PC3       PC4       PC5       PC6  \\\n",
       "variable                                                                 \n",
       "yummy      -0.476933  0.363790 -0.304444  0.055162 -0.307535  0.170738   \n",
       "convenient -0.155332  0.016414 -0.062515 -0.142425  0.277608 -0.347830   \n",
       "spicy      -0.006356  0.018809 -0.037019  0.197619  0.070620 -0.355087   \n",
       "fattening   0.116232 -0.034094 -0.322359 -0.354139 -0.073405 -0.406515   \n",
       "greasy      0.304443 -0.063839 -0.802373  0.253960  0.361399  0.209347   \n",
       "fast       -0.108493 -0.086972 -0.064642 -0.097363  0.107930 -0.594632   \n",
       "cheap      -0.337186 -0.610633 -0.149310  0.118958 -0.128973 -0.103241   \n",
       "tasty      -0.471514  0.307318 -0.287265 -0.002547 -0.210899 -0.076914   \n",
       "expensive   0.329042  0.601286  0.024397  0.067816 -0.003125 -0.261342   \n",
       "healthy    -0.213711  0.076593  0.192051  0.763488  0.287846 -0.178226   \n",
       "disgusting  0.374753 -0.139656 -0.088571  0.369539 -0.729209 -0.210878   \n",
       "\n",
       "                 PC7       PC8       PC9      PC10      PC11  \n",
       "variable                                                      \n",
       "yummy      -0.280519  0.013041  0.572403 -0.110284  0.045439  \n",
       "convenient -0.059738 -0.113079 -0.018465 -0.665818 -0.541616  \n",
       "spicy       0.707637  0.375934  0.400280 -0.075634  0.141730  \n",
       "fattening  -0.385943  0.589622 -0.160512 -0.005338  0.250910  \n",
       "greasy      0.036170 -0.138241 -0.002847  0.008707  0.001642  \n",
       "fast       -0.086846 -0.627799  0.166197  0.239532  0.339265  \n",
       "cheap      -0.040449  0.140060  0.076069  0.428087 -0.489283  \n",
       "tasty       0.360453 -0.072792 -0.639086  0.079184  0.019552  \n",
       "expensive  -0.068385  0.029539  0.066996  0.454399 -0.490069  \n",
       "healthy    -0.349616  0.176303 -0.185572 -0.038117  0.157608  \n",
       "disgusting -0.026792 -0.167181 -0.072483 -0.289592 -0.040662  "
      ]
     },
     "execution_count": 9,
     "metadata": {},
     "output_type": "execute_result"
    }
   ],
   "source": [
    "loadings = pca.components_\n",
    "num_pc = pca.n_features_\n",
    "pc_list = [\"PC\"+str(i) for i in list(range(1, num_pc+1))]\n",
    "loadings_df = pd.DataFrame.from_dict(dict(zip(pc_list, loadings)))\n",
    "loadings_df['variable'] = x.columns.values\n",
    "loadings_df = loadings_df.set_index('variable')\n",
    "loadings_df"
   ]
  },
  {
   "cell_type": "code",
   "execution_count": 10,
   "metadata": {},
   "outputs": [
    {
     "data": {
      "text/plain": [
       "<matplotlib.collections.PathCollection at 0x248035ead90>"
      ]
     },
     "execution_count": 10,
     "metadata": {},
     "output_type": "execute_result"
    },
    {
     "data": {
      "image/png": "[encoded data removed]",
      "text/plain": [
       "<Figure size 432x288 with 1 Axes>"
      ]
     },
     "metadata": {
      "needs_background": "light"
     },
     "output_type": "display_data"
    }
   ],
   "source": [
    "plt.scatter(x_pca[:,0],x_pca[:,1])"
   ]
  },
  {
   "cell_type": "markdown",
   "metadata": {},
   "source": [
    "## Biplot"
   ]
  },
  {
   "cell_type": "code",
   "execution_count": 11,
   "metadata": {},
   "outputs": [],
   "source": [
    "def myplot(score,coeff,labels=None):\n",
    "    xs = score[:,0]\n",
    "    ys = score[:,1]\n",
    "    n = coeff.shape[0]\n",
    "    scalex = 1.0/(xs.max() - xs.min())\n",
    "    scaley = 1.0/(ys.max() - ys.min())\n",
    "    plt.scatter(xs * scalex,ys * scaley,s=5)\n",
    "    for i in range(n):\n",
    "        plt.arrow(0, 0, coeff[i,0], coeff[i,1],color = 'r',alpha = 0.5)\n",
    "        if labels is None:\n",
    "            plt.text(coeff[i,0]* 1.15, coeff[i,1] * 1.15, \"Var\"+str(i+1), color = 'green', ha = 'center', va = 'center')\n",
    "        else:\n",
    "            plt.text(coeff[i,0]* 1.15, coeff[i,1] * 1.15, labels[i], color = 'g', ha = 'center', va = 'center')\n",
    " \n",
    "    plt.xlabel(\"PC{}\".format(1))\n",
    "    plt.ylabel(\"PC{}\".format(2))\n",
    "    plt.grid()"
   ]
  },
  {
   "cell_type": "code",
   "execution_count": 12,
   "metadata": {},
   "outputs": [
    {
     "data": {
      "image/png": "[encoded data removed]",
      "text/plain": [
       "<Figure size 432x288 with 1 Axes>"
      ]
     },
     "metadata": {
      "needs_background": "light"
     },
     "output_type": "display_data"
    }
   ],
   "source": [
    "myplot(x_pca[:,0:2],np.transpose(loadings[0:2, :]),list(x.columns))\n",
    "plt.show()"
   ]
  },
  {
   "cell_type": "markdown",
   "metadata": {},
   "source": [
    "## Step 5"
   ]
  },
  {
   "cell_type": "markdown",
   "metadata": {},
   "source": [
    "## Elbow Method"
   ]
  },
  {
   "cell_type": "code",
   "execution_count": 13,
   "metadata": {},
   "outputs": [],
   "source": [
    "def elbow(x):\n",
    "    wcss=[]\n",
    "    for i in range(1,10):\n",
    "        kmeans = KMeans(i)\n",
    "        kmeans.fit(x)\n",
    "        wcss_iter = kmeans.inertia_\n",
    "        wcss.append(wcss_iter)\n",
    "\n",
    "    number_clusters = range(1,10)\n",
    "    plt.plot(number_clusters,wcss)\n",
    "    plt.title('The Elbow title')\n",
    "   \n",
    "    plt.xlabel('Number of clusters')\n",
    "    plt.ylabel('WCSS')\n",
    "\n",
    "    plt.bar(number_clusters,wcss)\n",
    "    plt.xlabel('no of segments')\n",
    "    plt.ylabel('sum of within cluster distances')"
   ]
  },
  {
   "cell_type": "code",
   "execution_count": 14,
   "metadata": {},
   "outputs": [],
   "source": [
    "def elbow_bar(x):\n",
    "    wcss=[]\n",
    "    for i in range(1,10):\n",
    "        kmeans = KMeans(i)\n",
    "        kmeans.fit(x)\n",
    "        wcss_iter = kmeans.inertia_\n",
    "        wcss.append(wcss_iter)\n",
    "\n",
    "    number_clusters = range(1,10)\n",
    "    \n",
    "    plt.bar(number_clusters,wcss,color = 'orange')\n",
    "    plt.xlabel('no of segments')\n",
    "    plt.ylabel('sum of within cluster distances')"
   ]
  },
  {
   "cell_type": "code",
   "execution_count": 15,
   "metadata": {},
   "outputs": [
    {
     "data": {
      "image/png": "[encoded data removed]",
      "text/plain": [
       "<Figure size 432x288 with 1 Axes>"
      ]
     },
     "metadata": {
      "needs_background": "light"
     },
     "output_type": "display_data"
    }
   ],
   "source": [
    "elbow(x)"
   ]
  },
  {
   "cell_type": "markdown",
   "metadata": {},
   "source": [
    "## stability-based data structure analysis"
   ]
  },
  {
   "cell_type": "code",
   "execution_count": 16,
   "metadata": {},
   "outputs": [],
   "source": [
    "segments = [[] for i in range(10)]\n",
    "for k in range(2,10):\n",
    "    # mean = 0\n",
    "    for i in range(100):\n",
    "        sample_1 = x_pca_pd.sample(n=1453,replace=True,random_state=100 + i)\n",
    "        sample_2 = x_pca_pd.sample(n=1453,replace=True,random_state=i)\n",
    "        KMeans_1 = KMeans(n_clusters=k,n_init = 10,verbose = 0,random_state=0).fit(sample_1)\n",
    "        KMeans_2 = KMeans(n_clusters=k,n_init = 10,verbose = 0,random_state=0).fit(sample_2)\n",
    "        l1 = KMeans_1.labels_\n",
    "        l2 = KMeans_2.labels_\n",
    "        segments[k].append(adjusted_rand_score(l1,l2))\n",
    "\n",
    "nd_seg = np.array(segments,dtype=object)"
   ]
  },
  {
   "cell_type": "code",
   "execution_count": 17,
   "metadata": {},
   "outputs": [
    {
     "data": {
      "text/plain": [
       "Text(0, 0.5, 'ARI')"
      ]
     },
     "execution_count": 17,
     "metadata": {},
     "output_type": "execute_result"
    },
    {
     "data": {
      "image/png": "[encoded data removed]",
      "text/plain": [
       "<Figure size 432x288 with 1 Axes>"
      ]
     },
     "metadata": {
      "needs_background": "light"
     },
     "output_type": "display_data"
    }
   ],
   "source": [
    "\n",
    "sns.boxplot(data = nd_seg)\n",
    "plt.xlabel(\"segments\")\n",
    "plt.ylabel(\"ARI\")"
   ]
  },
  {
   "cell_type": "markdown",
   "metadata": {},
   "source": [
    "## Cluster"
   ]
  },
  {
   "cell_type": "code",
   "execution_count": 18,
   "metadata": {},
   "outputs": [],
   "source": [
    "K_means = KMeans(n_clusters=4, n_init=10, verbose=0, random_state=0).fit(x_pca)"
   ]
  },
  {
   "cell_type": "code",
   "execution_count": 39,
   "metadata": {},
   "outputs": [],
   "source": [
    "from collections import Counter\n",
    "labels = K_means.labels_\n",
    "counts = Counter(labels)"
   ]
  },
  {
   "cell_type": "code",
   "execution_count": 40,
   "metadata": {},
   "outputs": [
    {
     "data": {
      "image/png": "[encoded data removed]",
      "text/plain": [
       "<Figure size 1080x576 with 1 Axes>"
      ]
     },
     "metadata": {},
     "output_type": "display_data"
    }
   ],
   "source": [
    "sns.set(rc = {'figure.figsize':(15,8)})\n",
    "sns.scatterplot(data=x_pca_pd, x=\"pc1\", y=\"pc2\", hue=K_means.labels_,palette = \"coolwarm\")\n",
    "plt.scatter(K_means.cluster_centers_[:,0], K_means.cluster_centers_[:,1], \n",
    "            marker=\"X\",color='magenta', s=80, label=\"centroids\")\n",
    "plt.legend(loc='upper right')\n",
    "plt.show()"
   ]
  },
  {
   "cell_type": "markdown",
   "metadata": {},
   "source": [
    "## Step 6"
   ]
  },
  {
   "cell_type": "code",
   "execution_count": 41,
   "metadata": {},
   "outputs": [],
   "source": [
    "cluster_0 = np.copy([X[1,:]])\n",
    "cluster_1 = np.copy([X[1,:]])\n",
    "cluster_2 = np.copy([X[1,:]])\n",
    "cluster_3 = np.copy([X[1,:]])\n",
    "# k = np.concatenate((cluster_0,[x_pca[1,:]]),axis = 0)\n",
    "for i in range(len(labels)):\n",
    "    if labels[i] == 0:\n",
    "        cluster_0 = np.concatenate((cluster_0,[X[i,:]]),axis = 0)\n",
    "    if labels[i] == 1:\n",
    "        cluster_1 = np.concatenate((cluster_1,[X[i,:]]),axis = 0)\n",
    "    if labels[i] == 2:\n",
    "        cluster_2 = np.concatenate((cluster_2,[X[i,:]]),axis = 0)\n",
    "    if labels[i] == 3:\n",
    "        cluster_3 = np.concatenate((cluster_3,[X[i,:]]),axis = 0)\n",
    "    \n",
    "np.delete(cluster_0, 1, 0)\n",
    "np.delete(cluster_1, 1, 0)\n",
    "np.delete(cluster_2, 1, 0)\n",
    "np.delete(cluster_3, 1, 0)\n",
    "cluster_0_pd = pd.DataFrame(data = cluster_0,columns= loadings_df.index)\n",
    "cluster_1_pd = pd.DataFrame(data = cluster_1,columns= loadings_df.index)\n",
    "cluster_2_pd = pd.DataFrame(data = cluster_2,columns= loadings_df.index)\n",
    "cluster_3_pd = pd.DataFrame(data = cluster_3,columns= loadings_df.index)\n"
   ]
  },
  {
   "cell_type": "code",
   "execution_count": 42,
   "metadata": {},
   "outputs": [
    {
     "name": "stdout",
     "output_type": "stream",
     "text": [
      "[25.946317962835515, 36.20096352374398, 16.173434273916033, 21.679284239504472]\n"
     ]
    }
   ],
   "source": [
    "per =[] #percentage\n",
    "for i in range(len(counts)):\n",
    "    per.append(counts[i]/1453*100)\n",
    "print(per)"
   ]
  },
  {
   "cell_type": "code",
   "execution_count": 43,
   "metadata": {},
   "outputs": [
    {
     "data": {
      "image/png": "[encoded data removed]",
      "text/plain": [
       "<Figure size 1800x1440 with 4 Axes>"
      ]
     },
     "metadata": {},
     "output_type": "display_data"
    }
   ],
   "source": [
    "fig, axs = plt.subplots(2, 2, sharex=True,figsize = (25,20))\n",
    "\n",
    "colorr = ['black', 'red', 'green', 'blue', 'cyan','maroon','pink','violet','orange','brown','yellow']\n",
    "axs[0, 0].bar(cluster_0_pd.columns,cluster_0_pd.mean(),color = colorr)\n",
    "axs[0, 1].bar(cluster_1_pd.columns,cluster_1_pd.mean(),color =colorr)\n",
    "axs[1, 0].bar(cluster_2_pd.columns,cluster_2_pd.mean(),color =colorr)\n",
    "axs[1, 1].bar(cluster_3_pd.columns,cluster_3_pd.mean(),color =colorr)\n",
    "\n",
    "axs[0, 0].title.set_text(\"Cluster-0: 26%\")\n",
    "axs[0, 1].title.set_text(\"Cluster-1: 36%\")\n",
    "axs[1, 0].title.set_text(\"Cluster-2: 16%\")\n",
    "axs[1, 1].title.set_text(\"Cluster-3: 22%\")\n",
    "# fig.tight_layout()\n",
    "plt.show()"
   ]
  },
  {
   "cell_type": "markdown",
   "metadata": {},
   "source": [
    "## Step 7"
   ]
  },
  {
   "cell_type": "code",
   "execution_count": 22,
   "metadata": {
    "scrolled": true
   },
   "outputs": [
    {
     "data": {
      "text/html": [
       "<div>\n",
       "<style scoped>\n",
       "    .dataframe tbody tr th:only-of-type {\n",
       "        vertical-align: middle;\n",
       "    }\n",
       "\n",
       "    .dataframe tbody tr th {\n",
       "        vertical-align: top;\n",
       "    }\n",
       "\n",
       "    .dataframe thead th {\n",
       "        text-align: right;\n",
       "    }\n",
       "</style>\n",
       "<table border=\"1\" class=\"dataframe\">\n",
       "  <thead>\n",
       "    <tr style=\"text-align: right;\">\n",
       "      <th>Like</th>\n",
       "      <th>-5</th>\n",
       "      <th>-4</th>\n",
       "      <th>-3</th>\n",
       "      <th>-2</th>\n",
       "      <th>-1</th>\n",
       "      <th>0</th>\n",
       "      <th>+1</th>\n",
       "      <th>+2</th>\n",
       "      <th>+3</th>\n",
       "      <th>+4</th>\n",
       "      <th>+5</th>\n",
       "    </tr>\n",
       "    <tr>\n",
       "      <th>cluster_num</th>\n",
       "      <th></th>\n",
       "      <th></th>\n",
       "      <th></th>\n",
       "      <th></th>\n",
       "      <th></th>\n",
       "      <th></th>\n",
       "      <th></th>\n",
       "      <th></th>\n",
       "      <th></th>\n",
       "      <th></th>\n",
       "      <th></th>\n",
       "    </tr>\n",
       "  </thead>\n",
       "  <tbody>\n",
       "    <tr>\n",
       "      <th>0</th>\n",
       "      <td>58</td>\n",
       "      <td>38</td>\n",
       "      <td>37</td>\n",
       "      <td>30</td>\n",
       "      <td>30</td>\n",
       "      <td>69</td>\n",
       "      <td>49</td>\n",
       "      <td>45</td>\n",
       "      <td>17</td>\n",
       "      <td>4</td>\n",
       "      <td>0</td>\n",
       "    </tr>\n",
       "    <tr>\n",
       "      <th>1</th>\n",
       "      <td>2</td>\n",
       "      <td>3</td>\n",
       "      <td>0</td>\n",
       "      <td>5</td>\n",
       "      <td>10</td>\n",
       "      <td>33</td>\n",
       "      <td>49</td>\n",
       "      <td>78</td>\n",
       "      <td>138</td>\n",
       "      <td>109</td>\n",
       "      <td>99</td>\n",
       "    </tr>\n",
       "    <tr>\n",
       "      <th>2</th>\n",
       "      <td>87</td>\n",
       "      <td>27</td>\n",
       "      <td>29</td>\n",
       "      <td>18</td>\n",
       "      <td>12</td>\n",
       "      <td>35</td>\n",
       "      <td>13</td>\n",
       "      <td>6</td>\n",
       "      <td>8</td>\n",
       "      <td>0</td>\n",
       "      <td>0</td>\n",
       "    </tr>\n",
       "    <tr>\n",
       "      <th>3</th>\n",
       "      <td>5</td>\n",
       "      <td>3</td>\n",
       "      <td>7</td>\n",
       "      <td>6</td>\n",
       "      <td>6</td>\n",
       "      <td>32</td>\n",
       "      <td>41</td>\n",
       "      <td>58</td>\n",
       "      <td>66</td>\n",
       "      <td>47</td>\n",
       "      <td>44</td>\n",
       "    </tr>\n",
       "  </tbody>\n",
       "</table>\n",
       "</div>"
      ],
      "text/plain": [
       "Like         -5  -4  -3  -2  -1   0  +1  +2   +3   +4  +5\n",
       "cluster_num                                              \n",
       "0            58  38  37  30  30  69  49  45   17    4   0\n",
       "1             2   3   0   5  10  33  49  78  138  109  99\n",
       "2            87  27  29  18  12  35  13   6    8    0   0\n",
       "3             5   3   7   6   6  32  41  58   66   47  44"
      ]
     },
     "execution_count": 22,
     "metadata": {},
     "output_type": "execute_result"
    }
   ],
   "source": [
    "from statsmodels.graphics.mosaicplot import mosaic\n",
    "from itertools import product\n",
    "data['cluster_num'] = labels #adding to df\n",
    "data['Like']= data['Like'].replace({'I hate it!-5': '-5','I love it!+5':'+5'})\n",
    "#Like \n",
    "\n",
    "data['Like'].value_counts()\n",
    "crosstab =pd.crosstab(data['cluster_num'],data['Like'])\n",
    "\n",
    "#Reordering cols\n",
    "crosstab = crosstab[['-5','-4','-3','-2','-1','0','+1','+2','+3','+4','+5']]\n",
    "crosstab\n"
   ]
  },
  {
   "cell_type": "code",
   "execution_count": 23,
   "metadata": {},
   "outputs": [
    {
     "data": {
      "image/png": "[encoded data removed]",
      "text/plain": [
       "<Figure size 504x360 with 3 Axes>"
      ]
     },
     "metadata": {},
     "output_type": "display_data"
    }
   ],
   "source": [
    "#MOSAIC PLOT\n",
    "plt.rcParams['figure.figsize'] = (7,5)\n",
    "mosaic(crosstab.stack())\n",
    "plt.show()"
   ]
  },
  {
   "cell_type": "code",
   "execution_count": 24,
   "metadata": {},
   "outputs": [
    {
     "data": {
      "text/html": [
       "<div>\n",
       "<style scoped>\n",
       "    .dataframe tbody tr th:only-of-type {\n",
       "        vertical-align: middle;\n",
       "    }\n",
       "\n",
       "    .dataframe tbody tr th {\n",
       "        vertical-align: top;\n",
       "    }\n",
       "\n",
       "    .dataframe thead th {\n",
       "        text-align: right;\n",
       "    }\n",
       "</style>\n",
       "<table border=\"1\" class=\"dataframe\">\n",
       "  <thead>\n",
       "    <tr style=\"text-align: right;\">\n",
       "      <th>Gender</th>\n",
       "      <th>Female</th>\n",
       "      <th>Male</th>\n",
       "    </tr>\n",
       "    <tr>\n",
       "      <th>cluster_num</th>\n",
       "      <th></th>\n",
       "      <th></th>\n",
       "    </tr>\n",
       "  </thead>\n",
       "  <tbody>\n",
       "    <tr>\n",
       "      <th>0</th>\n",
       "      <td>220</td>\n",
       "      <td>157</td>\n",
       "    </tr>\n",
       "    <tr>\n",
       "      <th>1</th>\n",
       "      <td>321</td>\n",
       "      <td>205</td>\n",
       "    </tr>\n",
       "    <tr>\n",
       "      <th>2</th>\n",
       "      <td>98</td>\n",
       "      <td>137</td>\n",
       "    </tr>\n",
       "    <tr>\n",
       "      <th>3</th>\n",
       "      <td>149</td>\n",
       "      <td>166</td>\n",
       "    </tr>\n",
       "  </tbody>\n",
       "</table>\n",
       "</div>"
      ],
      "text/plain": [
       "Gender       Female  Male\n",
       "cluster_num              \n",
       "0               220   157\n",
       "1               321   205\n",
       "2                98   137\n",
       "3               149   166"
      ]
     },
     "execution_count": 24,
     "metadata": {},
     "output_type": "execute_result"
    }
   ],
   "source": [
    "#Mosaic plot gender vs segment\n",
    "crosstab_gender =pd.crosstab(data['cluster_num'],data['Gender'])\n",
    "crosstab_gender"
   ]
  },
  {
   "cell_type": "code",
   "execution_count": 25,
   "metadata": {},
   "outputs": [
    {
     "data": {
      "image/png": "[encoded data removed]",
      "text/plain": [
       "<Figure size 504x360 with 3 Axes>"
      ]
     },
     "metadata": {},
     "output_type": "display_data"
    }
   ],
   "source": [
    "\n",
    "\n",
    "plt.rcParams['figure.figsize'] = (7,5)\n",
    "mosaic(crosstab_gender.stack())\n",
    "plt.show()\n",
    "\n"
   ]
  },
  {
   "cell_type": "code",
   "execution_count": 26,
   "metadata": {},
   "outputs": [
    {
     "data": {
      "text/plain": [
       "<AxesSubplot:xlabel='cluster_num', ylabel='Age'>"
      ]
     },
     "execution_count": 26,
     "metadata": {},
     "output_type": "execute_result"
    },
    {
     "data": {
      "image/png": "[encoded data removed]",
      "text/plain": [
       "<Figure size 504x360 with 1 Axes>"
      ]
     },
     "metadata": {},
     "output_type": "display_data"
    }
   ],
   "source": [
    "sns.boxplot(x=\"cluster_num\", y=\"Age\", data=data)"
   ]
  },
  {
   "cell_type": "code",
   "execution_count": 27,
   "metadata": {},
   "outputs": [
    {
     "data": {
      "text/html": [
       "<div>\n",
       "<style scoped>\n",
       "    .dataframe tbody tr th:only-of-type {\n",
       "        vertical-align: middle;\n",
       "    }\n",
       "\n",
       "    .dataframe tbody tr th {\n",
       "        vertical-align: top;\n",
       "    }\n",
       "\n",
       "    .dataframe thead th {\n",
       "        text-align: right;\n",
       "    }\n",
       "</style>\n",
       "<table border=\"1\" class=\"dataframe\">\n",
       "  <thead>\n",
       "    <tr style=\"text-align: right;\">\n",
       "      <th></th>\n",
       "      <th>Like</th>\n",
       "      <th>Age</th>\n",
       "      <th>VisitFrequency</th>\n",
       "      <th>Gender</th>\n",
       "    </tr>\n",
       "  </thead>\n",
       "  <tbody>\n",
       "    <tr>\n",
       "      <th>0</th>\n",
       "      <td>7</td>\n",
       "      <td>43</td>\n",
       "      <td>0</td>\n",
       "      <td>0</td>\n",
       "    </tr>\n",
       "    <tr>\n",
       "      <th>1</th>\n",
       "      <td>1</td>\n",
       "      <td>33</td>\n",
       "      <td>0</td>\n",
       "      <td>0</td>\n",
       "    </tr>\n",
       "    <tr>\n",
       "      <th>2</th>\n",
       "      <td>0</td>\n",
       "      <td>44</td>\n",
       "      <td>0</td>\n",
       "      <td>0</td>\n",
       "    </tr>\n",
       "    <tr>\n",
       "      <th>3</th>\n",
       "      <td>3</td>\n",
       "      <td>51</td>\n",
       "      <td>4</td>\n",
       "      <td>0</td>\n",
       "    </tr>\n",
       "    <tr>\n",
       "      <th>4</th>\n",
       "      <td>1</td>\n",
       "      <td>31</td>\n",
       "      <td>3</td>\n",
       "      <td>1</td>\n",
       "    </tr>\n",
       "  </tbody>\n",
       "</table>\n",
       "</div>"
      ],
      "text/plain": [
       "   Like  Age  VisitFrequency  Gender\n",
       "0     7   43               0       0\n",
       "1     1   33               0       0\n",
       "2     0   44               0       0\n",
       "3     3   51               4       0\n",
       "4     1   31               3       1"
      ]
     },
     "execution_count": 27,
     "metadata": {},
     "output_type": "execute_result"
    }
   ],
   "source": [
    "g = data.iloc[:,11:15]\n",
    "g.to_numpy()\n",
    "\n",
    "LE = LabelEncoder()\n",
    "g = g.apply(LE.fit_transform)\n",
    "g.head()"
   ]
  },
  {
   "cell_type": "code",
   "execution_count": 28,
   "metadata": {},
   "outputs": [
    {
     "data": {
      "image/png": "[encoded data removed]",
      "text/plain": [
       "<Figure size 504x360 with 1 Axes>"
      ]
     },
     "metadata": {},
     "output_type": "display_data"
    }
   ],
   "source": [
    "from sklearn.cluster import KMeans\n",
    "\n",
    "df1 = g.loc[:, [\"Like\",\"VisitFrequency\"]].values\n",
    "kmeans = KMeans(n_clusters =4)\n",
    "label = kmeans.fit_predict(df1)\n",
    "plt.scatter(df1[:,0],df1[:,1],c=kmeans.labels_,cmap='rainbow')\n",
    "plt.scatter(kmeans.cluster_centers_[:,0],kmeans.cluster_centers_[:,1],color='black')\n",
    "plt.xlabel('Like')\n",
    "plt.ylabel('Visit')\n",
    "plt.show()"
   ]
  }
 ],
 "metadata": {
  "interpreter": {
   "hash": "b67277703e4e03d4913fd324b008a8c782f8a474d6a5c5bfbeaeadcab747c5e8"
  },
  "kernelspec": {
   "display_name": "Python 3",
   "language": "python",
   "name": "python3"
  },
  "language_info": {
   "codemirror_mode": {
    "name": "ipython",
    "version": 3
   },
   "file_extension": ".py",
   "mimetype": "text/x-python",
   "name": "python",
   "nbconvert_exporter": "python",
   "pygments_lexer": "ipython3",
   "version": "3.8.0"
  }
 },
 "nbformat": 4,
 "nbformat_minor": 2
}
